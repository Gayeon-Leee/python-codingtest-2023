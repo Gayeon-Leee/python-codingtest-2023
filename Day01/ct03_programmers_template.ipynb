{
 "cells": [
  {
   "attachments": {},
   "cell_type": "markdown",
   "metadata": {},
   "source": [
    "## 프로그래머스 템플릿 소스\n",
    "\n",
    "### 코딩테스트 입문 - 배열의 평균값"
   ]
  },
  {
   "cell_type": "code",
   "execution_count": null,
   "metadata": {},
   "outputs": [],
   "source": [
    "def solution(numbers):\n",
    "    answer = 0\n",
    "    for i in numbers:\n",
    "        answer += i\n",
    "\n",
    "    return answer / len(numbers)\n",
    "\n",
    "if __name__ == '__main__' :\n",
    "    numbers = [1, 2, 3, 4, 5, 6, 7, 8, 9, 10]\n",
    "    print(solution(numbers))\n",
    "\n",
    "    numbers = [89, 90, 91, 92, 93, 94, 95, 96, 97, 98, 99]\n",
    "    print(solution(numbers))"
   ]
  }
 ],
 "metadata": {
  "kernelspec": {
   "display_name": "Python 3",
   "language": "python",
   "name": "python3"
  },
  "language_info": {
   "name": "python",
   "version": "3.11.1"
  },
  "orig_nbformat": 4,
  "vscode": {
   "interpreter": {
    "hash": "a3d8f53f1429d27b792a3789224562ddd32c1395c9a9cfbb17b3c19c3b9a493d"
   }
  }
 },
 "nbformat": 4,
 "nbformat_minor": 2
}
