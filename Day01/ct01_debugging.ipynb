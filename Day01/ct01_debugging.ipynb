{
 "cells": [
  {
   "attachments": {},
   "cell_type": "markdown",
   "metadata": {},
   "source": [
    "### 코딩테스트 중 실수하기 쉬운 4가지 오류\n",
    "\n",
    "결함있는코드"
   ]
  },
  {
   "cell_type": "code",
   "execution_count": 6,
   "metadata": {},
   "outputs": [
    {
     "name": "stdout",
     "output_type": "stream",
     "text": [
      "2 = 114.5\n",
      "2 = 229.0\n"
     ]
    }
   ],
   "source": [
    "# 배열의 주어진 범위의 합을 2로 나눈 몫을 구하세요\n",
    "\n",
    "import random\n",
    "\n",
    "testcase = int(input()) # 횟수\n",
    "# 예외2. max_num = 100001\n",
    "answer = 0\n",
    "A = [0]*(100001) # 10만개 리스트\n",
    "# 예외2. A = [0]*max_num\n",
    "\n",
    "for i in range(0, 100001): # 예외2. 처음 소스코드 10001로 입력 => 잘못입력한 것\n",
    "# 예외2. for i in range(0, maxnum) 이렇게 코드 작성하면 숫자 오타로 오류낼 일 없음!    \n",
    "    A[i] = random.randrange(1,101)\n",
    "\n",
    "for t in range(1, testcase + 1): # 예외1. 여기 중단점 찍고 디버깅 돌려보면 answer가 초기화 되지 않았다는거 확인 가능\n",
    "    answer = 0 # 예외1. 초기화 문제 해결\n",
    "    start, end = map(int, input().split())\n",
    "\n",
    "    for i in range(start, end + 1):\n",
    "        answer = answer + A[i]\n",
    "\n",
    "    # 예외 3. print(f'{testcase} = {str(answer/2)}') 변수 잘못 사용\n",
    "    # 예외 4. print(f'{testcase} = {str(answer/2)}') 결과값이 정수로 나오려면 연산자가 / 아닌 // 여야 함\n",
    "    print(f'{t} = {str(answer//2)}')\n"
   ]
  },
  {
   "attachments": {},
   "cell_type": "markdown",
   "metadata": {},
   "source": [
    "### 예외 1\n",
    "```\n",
    "answer 초기화 x\n",
    "2 넣고 처음 1, 5 입력하면 1~5까지 범위 잘 넣음\n",
    "두번째로 1, 5 넣으면 처음과 값이 같아야 하는데 다름\n",
    "-> ansewr가 초기화 되지 않았기 때문에 첫번째의 값인 229가 저장된 채로 다시 for문 수행하는 것\n",
    "=> for문 안에서 ansewr 초기화 시켜줘야 함\n",
    "```\n",
    "### 예외 2\n",
    "\n",
    "배열 범위를 잘못 입력\n",
    "\n",
    "### 예외 3\n",
    " \n",
    "변수를 잘못 사용 -> 결과가 다르게 나옴\n",
    "\n",
    "### 예외 4\n",
    "\n",
    "형변환때문에 정수 아닌 실수로 나온 것 (나누기 연산자 문제)"
   ]
  }
 ],
 "metadata": {
  "kernelspec": {
   "display_name": "Python 3",
   "language": "python",
   "name": "python3"
  },
  "language_info": {
   "codemirror_mode": {
    "name": "ipython",
    "version": 3
   },
   "file_extension": ".py",
   "mimetype": "text/x-python",
   "name": "python",
   "nbconvert_exporter": "python",
   "pygments_lexer": "ipython3",
   "version": "3.11.1"
  },
  "orig_nbformat": 4,
  "vscode": {
   "interpreter": {
    "hash": "a3d8f53f1429d27b792a3789224562ddd32c1395c9a9cfbb17b3c19c3b9a493d"
   }
  }
 },
 "nbformat": 4,
 "nbformat_minor": 2
}
