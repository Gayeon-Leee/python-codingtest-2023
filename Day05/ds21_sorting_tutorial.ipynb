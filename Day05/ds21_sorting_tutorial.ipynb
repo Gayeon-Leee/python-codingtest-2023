{
 "cells": [
  {
   "attachments": {},
   "cell_type": "markdown",
   "metadata": {},
   "source": [
    "### 선택정렬"
   ]
  },
  {
   "attachments": {},
   "cell_type": "markdown",
   "metadata": {},
   "source": [
    "#### 최소값 위치 확인 함수"
   ]
  },
  {
   "cell_type": "code",
   "execution_count": 54,
   "metadata": {},
   "outputs": [],
   "source": [
    "def findMinIdx(ary):\n",
    "    minIdx = 0 # 0은 배열의 첫번째 값.. minIdx = 0 은 첫번째 값을 최소값으로 가정하는 것. \n",
    "    for i in range(1, len(ary)):\n",
    "        if ary[minIdx] > ary[i]: # 지정된 값이 배열의 현재값보다 크면\n",
    "            minIdx = i\n",
    "    \n",
    "    return minIdx"
   ]
  },
  {
   "cell_type": "code",
   "execution_count": 55,
   "metadata": {},
   "outputs": [
    {
     "name": "stdout",
     "output_type": "stream",
     "text": [
      "2\n"
     ]
    }
   ],
   "source": [
    "tests = [55, 88, 33, 77]\n",
    "print(findMinIdx(tests))"
   ]
  },
  {
   "attachments": {},
   "cell_type": "markdown",
   "metadata": {},
   "source": [
    "### 선택정렬 전체 구현"
   ]
  },
  {
   "cell_type": "code",
   "execution_count": 56,
   "metadata": {},
   "outputs": [
    {
     "name": "stdout",
     "output_type": "stream",
     "text": [
      "정렬 전 --> [188, 162, 168, 120, 50, 150, 177, 105]\n",
      "정렬 후 --> [50, 105, 120, 150, 162, 168, 177, 188]\n"
     ]
    }
   ],
   "source": [
    "# 변수선언\n",
    "before = [188, 162, 168, 120, 50, 150, 177, 105]\n",
    "after = []\n",
    "\n",
    "print('정렬 전 -->', before)\n",
    "for _ in range(len(before)):\n",
    "    minPos = findMinIdx(before)\n",
    "    after.append(before[minPos])\n",
    "    del(before[minPos]) # 찾은 최소값을 before에서 삭제 => 반복문 돌면서 나머지 값 중에서 다시 최소값 찾는 것\n",
    "print('정렬 후 -->', after)"
   ]
  },
  {
   "attachments": {},
   "cell_type": "markdown",
   "metadata": {},
   "source": [
    "### 개선된 선택정렬\n",
    "```\n",
    "배열을 두 개 만들지 않고 값을 교환하는 swap 기능 학습\n",
    "=> 가장 일반적인 방법\n",
    "```"
   ]
  },
  {
   "cell_type": "code",
   "execution_count": 57,
   "metadata": {},
   "outputs": [
    {
     "name": "stdout",
     "output_type": "stream",
     "text": [
      "정렬 전 --> [188, 162, 168, 120, 50, 150, 177, 105]\n",
      "사이클# ---> [188, 162, 168, 120, 50, 150, 177, 105]\n",
      "사이클# ---> [50, 162, 168, 120, 188, 150, 177, 105]\n",
      "사이클# ---> [50, 105, 168, 120, 188, 150, 177, 162]\n",
      "사이클# ---> [50, 105, 120, 168, 188, 150, 177, 162]\n",
      "사이클# ---> [50, 105, 120, 150, 188, 168, 177, 162]\n",
      "사이클# ---> [50, 105, 120, 150, 162, 168, 177, 188]\n",
      "사이클# ---> [50, 105, 120, 150, 162, 168, 177, 188]\n",
      "정렬 후 --> [50, 105, 120, 150, 162, 168, 177, 188]\n"
     ]
    }
   ],
   "source": [
    "def selectionSort(ary):\n",
    "    n = len(ary)\n",
    "    for i in range(0, n-1): # 마지막 인덱스 n-2\n",
    "        print('사이클# --->', ary)  # for문 돌면서 바뀌는거 볼 수 있음\n",
    "        minIdx = i\n",
    "        for k in range(i+1, n): # 마지막 인덱스 n-1\n",
    "            if ary[minIdx] > ary[k]:\n",
    "                minIdx = k\n",
    "        # temp = ary[i] ## 구식 방법이지만 basic\n",
    "        # ary[i] = ary[minIdx]    # 최소값으로 변경\n",
    "        # ary[minIdx] = temp\n",
    "        \n",
    "        ary[i], ary[minIdx] = ary[minIdx], ary[i]   # 신식 방법\n",
    "\n",
    "    # return ary\n",
    "\n",
    "# 변수\n",
    "dataAry= [188, 162, 168, 120, 50, 150, 177, 105]\n",
    "\n",
    "print('정렬 전 -->', dataAry)\n",
    "selectionSort(dataAry)  # dataAry = selectionSort(dataAry) 이렇게 return 받을 필요 없음\n",
    "print('정렬 후 -->', dataAry)  #dataBank 확인"
   ]
  },
  {
   "attachments": {},
   "cell_type": "markdown",
   "metadata": {},
   "source": [
    "### 삽입정렬 Insertion Sorting\n",
    "\n",
    "#### 자신의 삽입 위치를 찾는 함수"
   ]
  },
  {
   "cell_type": "code",
   "execution_count": 58,
   "metadata": {},
   "outputs": [],
   "source": [
    "def findInsertIdx(ary, data):\n",
    "    findIdx = -1\n",
    "    for i in range(0, len(ary)):\n",
    "        if ary[i] > data:\n",
    "            findIdx = i\n",
    "            break\n",
    "    if findIdx == -1:\n",
    "        return len(ary)\n",
    "    else:\n",
    "        return findIdx"
   ]
  },
  {
   "cell_type": "code",
   "execution_count": 59,
   "metadata": {},
   "outputs": [
    {
     "name": "stdout",
     "output_type": "stream",
     "text": [
      "50이 들어갈 위치 0\n",
      "55가 들어갈 위치 1\n"
     ]
    }
   ],
   "source": [
    "testAry = []\n",
    "print('50이 들어갈 위치', findInsertIdx(testAry, 50))\n",
    "testAry = [33, 77, 88]\n",
    "print('55가 들어갈 위치', findInsertIdx(testAry, 55))\n"
   ]
  },
  {
   "cell_type": "code",
   "execution_count": 60,
   "metadata": {},
   "outputs": [
    {
     "name": "stdout",
     "output_type": "stream",
     "text": [
      "정렬 전 --> [188, 162, 168, 120, 50, 150, 177, 105]\n",
      "정렬 후 --> [50, 105, 120, 150, 162, 168, 177, 188]\n",
      "원본 데이터 --> [188, 162, 168, 120, 50, 150, 177, 105]\n"
     ]
    }
   ],
   "source": [
    "before = [188, 162, 168, 120, 50, 150, 177, 105]\n",
    "after = []\n",
    "\n",
    "print('정렬 전 -->' , before)\n",
    "for i in range(len(before)):\n",
    "    data = before[i]\n",
    "    idx = findInsertIdx(after, data)\n",
    "    after.insert(idx, data)\n",
    "print('정렬 후 -->', after)\n",
    "print('원본 데이터 -->', before)"
   ]
  },
  {
   "attachments": {},
   "cell_type": "markdown",
   "metadata": {},
   "source": [
    "### 삽입정렬 개선"
   ]
  },
  {
   "cell_type": "code",
   "execution_count": 61,
   "metadata": {},
   "outputs": [
    {
     "name": "stdout",
     "output_type": "stream",
     "text": [
      "정렬 전 --> [188, 162, 168, 120, 50, 150, 177, 105]\n",
      "정렬 후 --> [50, 105, 120, 150, 162, 168, 177, 188]\n"
     ]
    }
   ],
   "source": [
    "def insertionSort(ary):\n",
    "    n = len(ary)\n",
    "    for end in range(1, n):  # 0번자리 값 빼고 1번자리 부터 끝가지 반복\n",
    "        for cur in range(end, 0, -1):   # 위와 반대로\n",
    "            if ary[cur-1] > ary[cur]:\n",
    "                tmp = ary[cur-1]\n",
    "                ary[cur-1] = ary[cur]\n",
    "                ary[cur] = tmp\n",
    "    return ary\n",
    "\n",
    "dataAry= [188, 162, 168, 120, 50, 150, 177, 105]\n",
    "\n",
    "print('정렬 전 -->', dataAry)\n",
    "insertionSort(dataAry)  \n",
    "print('정렬 후 -->', dataAry)"
   ]
  },
  {
   "cell_type": "code",
   "execution_count": 62,
   "metadata": {},
   "outputs": [
    {
     "name": "stdout",
     "output_type": "stream",
     "text": [
      "정렬 전 --> [188, 162, 168, 120, 50, 150, 177, 105]\n",
      "사이클# ---> [188, 162, 168, 120, 50, 150, 177, 105]\n",
      "사이클# ---> [162, 188, 168, 120, 50, 150, 177, 105]\n",
      "사이클# ---> [162, 168, 188, 120, 50, 150, 177, 105]\n",
      "사이클# ---> [120, 162, 168, 188, 50, 150, 177, 105]\n",
      "사이클# ---> [50, 120, 162, 168, 188, 150, 177, 105]\n",
      "사이클# ---> [50, 120, 150, 162, 168, 188, 177, 105]\n",
      "사이클# ---> [50, 120, 150, 162, 168, 177, 188, 105]\n",
      "정렬 후 --> [50, 105, 120, 150, 162, 168, 177, 188]\n"
     ]
    }
   ],
   "source": [
    "def insertionSort2(ary):\n",
    "    n = len(ary)\n",
    "    for end in range(1, n):  # 0번자리 값 빼고 1번자리 부터 끝가지 반복\n",
    "        print('사이클# --->', ary)  # for문 돌면서 바뀌는거 볼 수 있음\n",
    "        for cur in range(end, 0, -1):   # 위와 반대로\n",
    "            if ary[cur-1] > ary[cur]:\n",
    "                 ary[cur-1], ary[cur] = ary[cur], ary[cur-1]    # 파이썬에 있는 swap\n",
    "              \n",
    "    return ary\n",
    "\n",
    "dataAry= [188, 162, 168, 120, 50, 150, 177, 105]\n",
    "\n",
    "print('정렬 전 -->', dataAry)\n",
    "dataAry = insertionSort2(dataAry)  \n",
    "print('정렬 후 -->', dataAry)"
   ]
  },
  {
   "attachments": {},
   "cell_type": "markdown",
   "metadata": {},
   "source": [
    "### 버블 정렬(Bubble Sort)"
   ]
  },
  {
   "cell_type": "code",
   "execution_count": 63,
   "metadata": {},
   "outputs": [
    {
     "name": "stdout",
     "output_type": "stream",
     "text": [
      "정렬 전 --> [190, 162, 168, 120, 50, 150, 177, 105]\n",
      "사이클# ---> [190, 162, 168, 120, 50, 150, 177, 105]\n",
      "사이클# ---> [162, 168, 120, 50, 150, 177, 105, 190]\n",
      "사이클# ---> [162, 120, 50, 150, 168, 105, 177, 190]\n",
      "사이클# ---> [120, 50, 150, 162, 105, 168, 177, 190]\n",
      "사이클# ---> [50, 120, 150, 105, 162, 168, 177, 190]\n",
      "사이클# ---> [50, 120, 105, 150, 162, 168, 177, 190]\n",
      "사이클# ---> [50, 105, 120, 150, 162, 168, 177, 190]\n",
      "정렬 후 --> [50, 105, 120, 150, 162, 168, 177, 190]\n"
     ]
    }
   ],
   "source": [
    "def BubbleSort(ary):\n",
    "    n = len(ary)\n",
    "    for end in range(n-1, 0, -1):   # 인덱스 뒤쪽 (n-1)부터 0까지 역순으로 반복\n",
    "        print('사이클# --->', ary)  # for문 돌면서 바뀌는거 볼 수 있음\n",
    "        for cur in range(0, end):   # 0부터 n-2까지 반복\n",
    "            if ary[cur] > ary[cur+1]:\n",
    "                ary[cur], ary[cur+1] = ary[cur+1], ary[cur]\n",
    "\n",
    "    return ary\n",
    "\n",
    "dataAry= [190, 162, 168, 120, 50, 150, 177, 105]\n",
    "\n",
    "print('정렬 전 -->', dataAry)\n",
    "dataAry = BubbleSort(dataAry)  \n",
    "print('정렬 후 -->', dataAry)"
   ]
  },
  {
   "attachments": {},
   "cell_type": "markdown",
   "metadata": {},
   "source": [
    "### 퀵 정렬(Quick Sort)"
   ]
  },
  {
   "cell_type": "code",
   "execution_count": 64,
   "metadata": {},
   "outputs": [
    {
     "name": "stdout",
     "output_type": "stream",
     "text": [
      "정렬 전 --> [190, 162, 168, 120, 120, 50, 150, 177, 105]\n",
      "정렬 후 --> [50, 105, 120, 120, 150, 162, 168, 177, 190]\n"
     ]
    }
   ],
   "source": [
    "def quicSort(ary):\n",
    "    n = len(ary)\n",
    "    if n <= 1:  # 정렬 개수가 1개 이하면 정렬 필요 없으니 그대로 return\n",
    "        return ary\n",
    "    \n",
    "    pivot = ary[n // 2] # 중간값을 기준값으로\n",
    "    leftAry, rightAry, midAry = [], [], []\n",
    "\n",
    "    for num in ary:\n",
    "        if num < pivot:\n",
    "            leftAry.append(num)\n",
    "        elif num > pivot:\n",
    "            rightAry.append(num)\n",
    "        else:\n",
    "            midAry.append(num) # 퀵 정렬에서 중복데이터 쓰면 출력시 중복데이터 중 1개만 출력됨 => 중복 고려해 midAry 만들어 준 것\n",
    "\n",
    "    return quicSort(leftAry) + midAry + quicSort(rightAry)   # 재귀호출\n",
    "\n",
    "dataAry= [190, 162, 168, 120, 120, 50, 150, 177, 105]   \n",
    "\n",
    "print('정렬 전 -->', dataAry)\n",
    "dataAry = quicSort(dataAry)  \n",
    "print('정렬 후 -->', dataAry)"
   ]
  },
  {
   "attachments": {},
   "cell_type": "markdown",
   "metadata": {},
   "source": [
    "### 리스트 정렬"
   ]
  },
  {
   "cell_type": "code",
   "execution_count": 65,
   "metadata": {},
   "outputs": [],
   "source": [
    "import random\n",
    "\n",
    "dataBank = []\n",
    "for i in range(0, 1000):\n",
    "    dataBank.append(random.randint(0, 1000))"
   ]
  },
  {
   "cell_type": "code",
   "execution_count": 66,
   "metadata": {},
   "outputs": [],
   "source": [
    "dataBank.sort()\n",
    "dataBank.sort(reverse=True) # 내림차순 정렬"
   ]
  }
 ],
 "metadata": {
  "kernelspec": {
   "display_name": "Python 3",
   "language": "python",
   "name": "python3"
  },
  "language_info": {
   "codemirror_mode": {
    "name": "ipython",
    "version": 3
   },
   "file_extension": ".py",
   "mimetype": "text/x-python",
   "name": "python",
   "nbconvert_exporter": "python",
   "pygments_lexer": "ipython3",
   "version": "3.11.1"
  },
  "orig_nbformat": 4,
  "vscode": {
   "interpreter": {
    "hash": "a3d8f53f1429d27b792a3789224562ddd32c1395c9a9cfbb17b3c19c3b9a493d"
   }
  }
 },
 "nbformat": 4,
 "nbformat_minor": 2
}
