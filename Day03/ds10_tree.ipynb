{
 "cells": [
  {
   "attachments": {},
   "cell_type": "markdown",
   "metadata": {},
   "source": [
    "## 트리구조"
   ]
  },
  {
   "cell_type": "code",
   "execution_count": 2,
   "metadata": {},
   "outputs": [],
   "source": [
    "class TreeNode: # 트리노드\n",
    "    \n",
    "    def __init__(self) -> None:\n",
    "        self.left = None\n",
    "        self.data = None\n",
    "        self.right = None"
   ]
  },
  {
   "attachments": {},
   "cell_type": "markdown",
   "metadata": {},
   "source": [
    "### 트리 구성"
   ]
  },
  {
   "cell_type": "code",
   "execution_count": 4,
   "metadata": {},
   "outputs": [],
   "source": [
    "rootNode = TreeNode()\n",
    "rootNode.data = '현우'\n",
    "\n",
    "node2 = TreeNode()\n",
    "node2.data = '민혁'\n",
    "rootNode.left = node2\n",
    "\n",
    "node3 = TreeNode()\n",
    "node3.data = '기현'\n",
    "rootNode.right = node3\n",
    "\n",
    "node4 = TreeNode()\n",
    "node4.data = '형원'\n",
    "node2.left = node4\n",
    "\n",
    "node5 = TreeNode()\n",
    "node5.data = '주헌'\n",
    "node2.right = node5\n",
    "\n",
    "node6 = TreeNode()\n",
    "node6.data = '창균'\n",
    "node3.left = node6"
   ]
  },
  {
   "cell_type": "code",
   "execution_count": 16,
   "metadata": {},
   "outputs": [
    {
     "name": "stdout",
     "output_type": "stream",
     "text": [
      "현우\n",
      "｜           ＼\n",
      "민혁          기현\n",
      "｜  ＼        ｜ \n",
      "형원  주헌    창균\n"
     ]
    }
   ],
   "source": [
    "print(rootNode.data)\n",
    "print('｜           ＼')\n",
    "print(rootNode.left.data, '        ',rootNode.right.data)\n",
    "print('｜  ＼        ｜ ')\n",
    "print(rootNode.left.left.data, '',rootNode.left.right.data, '  ',\n",
    "      rootNode.right.left.data)"
   ]
  },
  {
   "attachments": {},
   "cell_type": "markdown",
   "metadata": {},
   "source": [
    "### 트리 순회(traversal)\n",
    "\n",
    "#### 전위 순회(preoder), 중위 순회(inoder), 후위 순회(postorder)"
   ]
  },
  {
   "cell_type": "code",
   "execution_count": 17,
   "metadata": {},
   "outputs": [],
   "source": [
    "def preoder(node):\n",
    "    if node == None: return\n",
    "\n",
    "    print(node.data, end=' -> ')\n",
    "    preoder(node.left) # 재귀호출(Recursive call)\n",
    "    preoder(node.right)"
   ]
  },
  {
   "cell_type": "code",
   "execution_count": 18,
   "metadata": {},
   "outputs": [
    {
     "name": "stdout",
     "output_type": "stream",
     "text": [
      "현우 -> 민혁 -> 형원 -> 주헌 -> 기현 -> 창균 -> "
     ]
    }
   ],
   "source": [
    "preoder(rootNode)"
   ]
  },
  {
   "cell_type": "code",
   "execution_count": 19,
   "metadata": {},
   "outputs": [],
   "source": [
    "def inoder(node):\n",
    "    if node == None: return\n",
    "    inoder(node.left) # 재귀호출(Recursive call)\n",
    "    print(node.data, end=' -> ')\n",
    "    inoder(node.right)"
   ]
  },
  {
   "cell_type": "code",
   "execution_count": 20,
   "metadata": {},
   "outputs": [
    {
     "name": "stdout",
     "output_type": "stream",
     "text": [
      "형원 -> 민혁 -> 주헌 -> 현우 -> 창균 -> 기현 -> "
     ]
    }
   ],
   "source": [
    "inoder(rootNode)"
   ]
  },
  {
   "cell_type": "code",
   "execution_count": 21,
   "metadata": {},
   "outputs": [],
   "source": [
    "def postorder(node):\n",
    "    if node == None: return\n",
    "    postorder(node.left) # 재귀호출(Recursive call)\n",
    "    postorder(node.right)\n",
    "    print(node.data, end=' -> ')"
   ]
  },
  {
   "cell_type": "code",
   "execution_count": 22,
   "metadata": {},
   "outputs": [
    {
     "name": "stdout",
     "output_type": "stream",
     "text": [
      "형원 -> 주헌 -> 민혁 -> 창균 -> 기현 -> 현우 -> "
     ]
    }
   ],
   "source": [
    "postorder(rootNode)"
   ]
  }
 ],
 "metadata": {
  "kernelspec": {
   "display_name": "Python 3",
   "language": "python",
   "name": "python3"
  },
  "language_info": {
   "codemirror_mode": {
    "name": "ipython",
    "version": 3
   },
   "file_extension": ".py",
   "mimetype": "text/x-python",
   "name": "python",
   "nbconvert_exporter": "python",
   "pygments_lexer": "ipython3",
   "version": "3.11.1"
  },
  "orig_nbformat": 4,
  "vscode": {
   "interpreter": {
    "hash": "a3d8f53f1429d27b792a3789224562ddd32c1395c9a9cfbb17b3c19c3b9a493d"
   }
  }
 },
 "nbformat": 4,
 "nbformat_minor": 2
}
